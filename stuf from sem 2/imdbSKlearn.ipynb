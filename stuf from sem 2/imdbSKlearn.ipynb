{
 "cells": [
  {
   "cell_type": "markdown",
   "id": "aecdd366",
   "metadata": {},
   "source": [
    "### Imports necessary libraries\n",
    "This code will imports necessary libraries for building a sentiment analysis model using logistic regression and TF-IDF vectorization. The expected outcome of this code is to preprocess the text data, split it into training and testing sets, create TF-IDF features from the text, and train a logistic regression model to classify movie reviews as positive or negative based on the provided data."
   ]
  },
  {
   "cell_type": "code",
   "execution_count": 1,
   "id": "806481ee",
   "metadata": {},
   "outputs": [],
   "source": [
    "import numpy as np\n",
    "import pandas as pd\n",
    "from sklearn.model_selection import train_test_split\n",
    "from sklearn.feature_extraction.text import TfidfVectorizer\n",
    "from sklearn.linear_model import LogisticRegression"
   ]
  },
  {
   "cell_type": "markdown",
   "id": "e54503a8",
   "metadata": {},
   "source": [
    "### Import the Dataset\n",
    "lets loads the movie review dataset from the 'imdbDataset.csv' file into a pandas DataFrame named 'df'. The expected outcome is to have the movie review data loaded into memory, ready for further processing and analysis."
   ]
  },
  {
   "cell_type": "code",
   "execution_count": 2,
   "id": "00ef3c15",
   "metadata": {},
   "outputs": [],
   "source": [
    "# Load the movie review dataset\n",
    "df = pd.read_csv('imdbDataset.csv')"
   ]
  },
  {
   "cell_type": "markdown",
   "id": "5e9a1faa",
   "metadata": {},
   "source": [
    "### Insight in dataset"
   ]
  },
  {
   "cell_type": "code",
   "execution_count": 3,
   "id": "76c43f42",
   "metadata": {
    "scrolled": false
   },
   "outputs": [
    {
     "data": {
      "text/html": [
       "<div>\n",
       "<style scoped>\n",
       "    .dataframe tbody tr th:only-of-type {\n",
       "        vertical-align: middle;\n",
       "    }\n",
       "\n",
       "    .dataframe tbody tr th {\n",
       "        vertical-align: top;\n",
       "    }\n",
       "\n",
       "    .dataframe thead th {\n",
       "        text-align: right;\n",
       "    }\n",
       "</style>\n",
       "<table border=\"1\" class=\"dataframe\">\n",
       "  <thead>\n",
       "    <tr style=\"text-align: right;\">\n",
       "      <th></th>\n",
       "      <th>review</th>\n",
       "      <th>sentiment</th>\n",
       "    </tr>\n",
       "  </thead>\n",
       "  <tbody>\n",
       "    <tr>\n",
       "      <th>0</th>\n",
       "      <td>One of the other reviewers has mentioned that ...</td>\n",
       "      <td>positive</td>\n",
       "    </tr>\n",
       "    <tr>\n",
       "      <th>1</th>\n",
       "      <td>A wonderful little production. &lt;br /&gt;&lt;br /&gt;The...</td>\n",
       "      <td>positive</td>\n",
       "    </tr>\n",
       "    <tr>\n",
       "      <th>2</th>\n",
       "      <td>I thought this was a wonderful way to spend ti...</td>\n",
       "      <td>positive</td>\n",
       "    </tr>\n",
       "    <tr>\n",
       "      <th>3</th>\n",
       "      <td>Basically there's a family where a little boy ...</td>\n",
       "      <td>negative</td>\n",
       "    </tr>\n",
       "    <tr>\n",
       "      <th>4</th>\n",
       "      <td>Petter Mattei's \"Love in the Time of Money\" is...</td>\n",
       "      <td>positive</td>\n",
       "    </tr>\n",
       "  </tbody>\n",
       "</table>\n",
       "</div>"
      ],
      "text/plain": [
       "                                              review sentiment\n",
       "0  One of the other reviewers has mentioned that ...  positive\n",
       "1  A wonderful little production. <br /><br />The...  positive\n",
       "2  I thought this was a wonderful way to spend ti...  positive\n",
       "3  Basically there's a family where a little boy ...  negative\n",
       "4  Petter Mattei's \"Love in the Time of Money\" is...  positive"
      ]
     },
     "execution_count": 3,
     "metadata": {},
     "output_type": "execute_result"
    }
   ],
   "source": [
    "df.head()"
   ]
  },
  {
   "cell_type": "markdown",
   "id": "b51f55a1",
   "metadata": {},
   "source": [
    "It displays the first few rows of the DataFrame 'df', showing the 'review' column containing the movie review text and the 'sentiment' column indicating whether the review is positive or negative."
   ]
  },
  {
   "cell_type": "code",
   "execution_count": 4,
   "id": "95902ff8",
   "metadata": {
    "scrolled": false
   },
   "outputs": [
    {
     "data": {
      "text/plain": [
       "\"Basically there's a family where a little boy (Jake) thinks there's a zombie in his closet & his parents are fighting all the time.<br /><br />This movie is slower than a soap opera... and suddenly, Jake decides to become Rambo and kill the zombie.<br /><br />OK, first of all when you're going to make a film you must Decide if its a thriller or a drama! As a drama the movie is watchable. Parents are divorcing & arguing like in real life. And then we have Jake with his closet which totally ruins all the film! I expected to see a BOOGEYMAN similar movie, and instead i watched a drama with some meaningless thriller spots.<br /><br />3 out of 10 just for the well playing parents & descent dialogs. As for the shots with Jake: just ignore them.\""
      ]
     },
     "execution_count": 4,
     "metadata": {},
     "output_type": "execute_result"
    }
   ],
   "source": [
    "df['review'][3]"
   ]
  },
  {
   "cell_type": "markdown",
   "id": "b69ad276",
   "metadata": {},
   "source": [
    "It is the review text corresponding to the third row in the 'review' column of the DataFrame 'df'. It describes the storyline and provides the reviewer's opinion about the movie."
   ]
  },
  {
   "cell_type": "code",
   "execution_count": 5,
   "id": "23639fe9",
   "metadata": {
    "scrolled": true
   },
   "outputs": [
    {
     "data": {
      "text/plain": [
       "'negative'"
      ]
     },
     "execution_count": 5,
     "metadata": {},
     "output_type": "execute_result"
    }
   ],
   "source": [
    "df['sentiment'][3]"
   ]
  },
  {
   "cell_type": "markdown",
   "id": "f8854e4f",
   "metadata": {},
   "source": [
    "It corresponds to the sentiment label for the review in the third row of the 'sentiment' column in the DataFrame 'df'. As shown in above review the sentiment of the review is classified as negative."
   ]
  },
  {
   "cell_type": "code",
   "execution_count": 6,
   "id": "8bb5fbfa",
   "metadata": {},
   "outputs": [
    {
     "data": {
      "text/plain": [
       "(50000, 2)"
      ]
     },
     "execution_count": 6,
     "metadata": {},
     "output_type": "execute_result"
    }
   ],
   "source": [
    "df.shape"
   ]
  },
  {
   "cell_type": "markdown",
   "id": "70d12122",
   "metadata": {},
   "source": [
    "The DataFrame 'df' has 50,000 rows and 2 columns. The number of rows represents the total number of movie reviews in the dataset, and the number of columns indicates the number of features or attributes associated with each review, which in this case are 'review' and 'sentiment'."
   ]
  },
  {
   "cell_type": "code",
   "execution_count": 7,
   "id": "1e1fcfa6",
   "metadata": {
    "scrolled": true
   },
   "outputs": [
    {
     "name": "stdout",
     "output_type": "stream",
     "text": [
      "<class 'pandas.core.frame.DataFrame'>\n",
      "RangeIndex: 50000 entries, 0 to 49999\n",
      "Data columns (total 2 columns):\n",
      " #   Column     Non-Null Count  Dtype \n",
      "---  ------     --------------  ----- \n",
      " 0   review     50000 non-null  object\n",
      " 1   sentiment  50000 non-null  object\n",
      "dtypes: object(2)\n",
      "memory usage: 781.4+ KB\n"
     ]
    }
   ],
   "source": [
    "df.info()"
   ]
  },
  {
   "cell_type": "markdown",
   "id": "ef2a36ad",
   "metadata": {},
   "source": [
    "It is providing information about the DataFrame 'df':\n",
    "\n",
    "    The DataFrame has a total of 50,000 entries or rows.\n",
    "    There are 2 columns in the DataFrame named 'review' and 'sentiment'.\n",
    "    The 'review' column has 50,000 non-null values, indicating that there are no missing values in that column.\n",
    "    The 'sentiment' column also has 50,000 non-null values, indicating no missing values in that column.\n",
    "    The data type of both columns is 'object', which typically represents string or text data.\n",
    "    The memory usage of the DataFrame is approximately 781.4+ KB."
   ]
  },
  {
   "cell_type": "code",
   "execution_count": 8,
   "id": "5bcf9d2c",
   "metadata": {
    "scrolled": true
   },
   "outputs": [
    {
     "data": {
      "text/plain": [
       "review       0\n",
       "sentiment    0\n",
       "dtype: int64"
      ]
     },
     "execution_count": 8,
     "metadata": {},
     "output_type": "execute_result"
    }
   ],
   "source": [
    "#checking missing values\n",
    "df.isnull().sum()"
   ]
  },
  {
   "cell_type": "markdown",
   "id": "ecf83b44",
   "metadata": {},
   "source": [
    "df.isnull().sum() indicates the number of missing values in each column of the DataFrame 'df':\n",
    "\n",
    "    The 'review' column has 0 missing values.\n",
    "    The 'sentiment' column also has 0 missing values.\n",
    "Therefore, there are no missing values in either column of the DataFrame."
   ]
  },
  {
   "cell_type": "markdown",
   "id": "8bd8569f",
   "metadata": {},
   "source": [
    "### Split the Dataset"
   ]
  },
  {
   "cell_type": "code",
   "execution_count": 9,
   "id": "367edca1",
   "metadata": {},
   "outputs": [],
   "source": [
    "# Split the dataset into train and test sets\n",
    "X_train, X_test, y_train, y_test = train_test_split(df['review'], df['sentiment'], test_size=0.2)"
   ]
  },
  {
   "cell_type": "markdown",
   "id": "be8b7f73",
   "metadata": {},
   "source": [
    "This code will splits the data into training and testing sets using the train_test_split function from the Scikit-learn library. The expected outcome is to have the data split into the following variables:\n",
    "\n",
    "    X_train: Training set containing the 'review' data.\n",
    "    X_test: Testing set containing the 'review' data.\n",
    "    y_train: Training set containing the 'sentiment' labels.\n",
    "    y_test: Testing set containing the 'sentiment' labels.\n",
    "The data is split with a test size of 0.2, indicating that 20% of the data will be used for testing while 80% will be used for training the model."
   ]
  },
  {
   "cell_type": "code",
   "execution_count": 10,
   "id": "2e584566",
   "metadata": {
    "scrolled": false
   },
   "outputs": [
    {
     "name": "stdout",
     "output_type": "stream",
     "text": [
      "(40000,)\n",
      "(10000,)\n"
     ]
    }
   ],
   "source": [
    "print(X_train.shape)\n",
    "print(X_test.shape)"
   ]
  },
  {
   "cell_type": "markdown",
   "id": "ddd4d269",
   "metadata": {},
   "source": [
    "Both training and testing sets contain the 'review' data from the original DataFrame, with the training set having 40,000 samples and the testing set having 10,000 samples."
   ]
  },
  {
   "cell_type": "markdown",
   "id": "15fcd0f7",
   "metadata": {},
   "source": [
    "### TF-IDF vectorizer"
   ]
  },
  {
   "cell_type": "code",
   "execution_count": 11,
   "id": "9a6fd543",
   "metadata": {},
   "outputs": [],
   "source": [
    "# Create a TF-IDF vectorizer\n",
    "vectorizer = TfidfVectorizer()"
   ]
  },
  {
   "cell_type": "markdown",
   "id": "03263860",
   "metadata": {},
   "source": [
    "This code will initializes an instance of the TfidfVectorizer from the Scikit-learn library. The expected outcome is to have a vectorizer object that will be used to transform the text data into TF-IDF features. The TF-IDF vectorizer calculates the Term Frequency-Inverse Document Frequency (TF-IDF) values for each word in the text data, which is a common technique used in natural language processing tasks such as text classification."
   ]
  },
  {
   "cell_type": "code",
   "execution_count": 12,
   "id": "fe041775",
   "metadata": {},
   "outputs": [
    {
     "data": {
      "text/plain": [
       "TfidfVectorizer()"
      ]
     },
     "execution_count": 12,
     "metadata": {},
     "output_type": "execute_result"
    }
   ],
   "source": [
    "# Fit the vectorizer to the training data\n",
    "vectorizer.fit(X_train)"
   ]
  },
  {
   "cell_type": "markdown",
   "id": "f779f95f",
   "metadata": {},
   "source": [
    "This code will fits the TF-IDF vectorizer (vectorizer) on the training data (X_train). The expected outcome is to calculate the necessary statistics and build the vocabulary based on the words present in the training set. This step prepares the vectorizer to transform the text data into TF-IDF features during the model training and evaluation process."
   ]
  },
  {
   "cell_type": "code",
   "execution_count": 13,
   "id": "96a6213c",
   "metadata": {},
   "outputs": [],
   "source": [
    "# Transform the training and test data\n",
    "X_train_vectorized = vectorizer.transform(X_train)\n",
    "X_test_vectorized = vectorizer.transform(X_test)"
   ]
  },
  {
   "cell_type": "markdown",
   "id": "7d83369a",
   "metadata": {},
   "source": [
    "X_train_vectorized will transforms the training data (X_train) into TF-IDF features using the fitted vectorizer. The expected outcome is to have the training data converted into a matrix representation of TF-IDF values.\n",
    "\n",
    "X_test_vectorized will transforms the testing data (X_test) into TF-IDF features using the same vectorizer. The expected outcome is to have the testing data converted into a matrix representation of TF-IDF values, consistent with the TF-IDF features of the training data.\n",
    "\n",
    "Both X_train_vectorized and X_test_vectorized will have the same number of features as the TF-IDF vectorizer's vocabulary, and the number of rows will correspond to the number of samples in the training and testing sets, respectively."
   ]
  },
  {
   "cell_type": "markdown",
   "id": "8da9c8de",
   "metadata": {},
   "source": [
    "### Lets create a logistic regression model \n",
    "with a maximum number of iterations set to 10,000. The logistic regression model is a commonly used classification algorithm for binary classification tasks. The expected outcome is to have a logistic regression model object ready for training and prediction."
   ]
  },
  {
   "cell_type": "code",
   "execution_count": 14,
   "id": "5311b1b4",
   "metadata": {},
   "outputs": [],
   "source": [
    "# Create a logistic regression model\n",
    "model = LogisticRegression(max_iter=10000)"
   ]
  },
  {
   "cell_type": "code",
   "execution_count": 15,
   "id": "d4495b74",
   "metadata": {
    "scrolled": true
   },
   "outputs": [
    {
     "data": {
      "text/plain": [
       "LogisticRegression(max_iter=10000)"
      ]
     },
     "execution_count": 15,
     "metadata": {},
     "output_type": "execute_result"
    }
   ],
   "source": [
    "# Fit the model to the training data\n",
    "model.fit(X_train_vectorized, y_train)"
   ]
  },
  {
   "cell_type": "markdown",
   "id": "60d83220",
   "metadata": {},
   "source": [
    "This code will trains the logistic regression model (model) on the training data (X_train_vectorized) and their corresponding labels (y_train). The expected outcome is to fit the model to the training data and learn the underlying patterns in the TF-IDF features to make predictions on new data."
   ]
  },
  {
   "cell_type": "code",
   "execution_count": 16,
   "id": "65284aac",
   "metadata": {},
   "outputs": [],
   "source": [
    "# Evaluate the model on the test data\n",
    "y_pred = model.predict(X_test_vectorized)"
   ]
  },
  {
   "cell_type": "markdown",
   "id": "393b7dd4",
   "metadata": {},
   "source": [
    "This code uses the trained logistic regression model to make predictions on the testing data (X_test_vectorized). The expected outcome is to obtain predicted labels (y_pred) for the testing data based on the learned patterns from the training data. These predicted labels can be compared with the actual labels (y_test) to evaluate the performance of the model. "
   ]
  },
  {
   "cell_type": "code",
   "execution_count": 17,
   "id": "448853ec",
   "metadata": {
    "scrolled": true
   },
   "outputs": [
    {
     "name": "stdout",
     "output_type": "stream",
     "text": [
      "Accuracy: 0.9011\n"
     ]
    }
   ],
   "source": [
    "# Print the accuracy of the model\n",
    "print('Accuracy:', np.mean(y_pred == y_test))"
   ]
  },
  {
   "cell_type": "markdown",
   "id": "4aa1c0d9",
   "metadata": {},
   "source": [
    "The Accuracy: 0.9011 indicates the accuracy of the logistic regression model on the testing data. It is calculated by comparing the predicted labels (y_pred) with the actual labels (y_test) and taking the mean of the matches. In this case, the model achieved an accuracy of approximately 90.11%, meaning it correctly classified 89.87% of the movie reviews in the testing set."
   ]
  },
  {
   "cell_type": "code",
   "execution_count": 19,
   "id": "410cf23a",
   "metadata": {
    "scrolled": true
   },
   "outputs": [
    {
     "name": "stdout",
     "output_type": "stream",
     "text": [
      "Please enter a new review: \n",
      "\n",
      "Kisi Ka Bhai Kisi Ki Jaan is a disappointing and unoriginal action-drama that fails to live up to the hype. The film is a remake of the Tamil film Veeram, and it follows a similar plot. The film stars Salman Khan as a righteous man who is forced to take the law into his own hands when his family is threatened. The film is full of clichés and predictable plot points, and the action scenes are few and far between. The acting is also subpar, with Khan giving a wooden performance. Overall, Kisi Ka Bhai Kisi Ki Jaan is a forgettable and underwhelming action-drama that is not worth your time.\n",
      "\n",
      "The sentiment of the new review is: ['negative']\n"
     ]
    }
   ],
   "source": [
    "# Load the new review\n",
    "new_review = input('Please enter a new review: \\n\\n')\n",
    "\n",
    "# # Transform the new review\n",
    "new_review_vectorized = vectorizer.transform([new_review])\n",
    "\n",
    "# # Predict the sentiment of the new review\n",
    "sentiment = model.predict(new_review_vectorized)\n",
    "\n",
    "# Print the predicted sentiment of the new review\n",
    "print('\\nThe sentiment of the new review is:', sentiment)"
   ]
  },
  {
   "cell_type": "markdown",
   "id": "34a6335d",
   "metadata": {},
   "source": [
    "The code prompts the user to enter a new movie review. It then transforms the new review using the TF-IDF vectorizer (vectorizer) to convert it into a vector of TF-IDF features (new_review_vectorized). Finally, the logistic regression model (model) predicts the sentiment of the new review, and the predicted sentiment is printed, which in this case is 'negative'."
   ]
  },
  {
   "cell_type": "code",
   "execution_count": null,
   "id": "ea0be309",
   "metadata": {},
   "outputs": [],
   "source": []
  },
  {
   "cell_type": "code",
   "execution_count": null,
   "id": "6b04c5c7",
   "metadata": {},
   "outputs": [],
   "source": []
  },
  {
   "cell_type": "code",
   "execution_count": null,
   "id": "ab70810e",
   "metadata": {},
   "outputs": [],
   "source": []
  },
  {
   "cell_type": "code",
   "execution_count": null,
   "id": "16f835d9",
   "metadata": {},
   "outputs": [],
   "source": []
  },
  {
   "cell_type": "code",
   "execution_count": null,
   "id": "0fa79978",
   "metadata": {},
   "outputs": [],
   "source": []
  },
  {
   "cell_type": "code",
   "execution_count": null,
   "id": "c563c55b",
   "metadata": {},
   "outputs": [],
   "source": []
  },
  {
   "cell_type": "code",
   "execution_count": null,
   "id": "a8f80eee",
   "metadata": {},
   "outputs": [],
   "source": []
  },
  {
   "cell_type": "code",
   "execution_count": null,
   "id": "0b8eb4a9",
   "metadata": {},
   "outputs": [],
   "source": []
  },
  {
   "cell_type": "code",
   "execution_count": null,
   "id": "84cf9c9c",
   "metadata": {},
   "outputs": [],
   "source": []
  }
 ],
 "metadata": {
  "kernelspec": {
   "display_name": "Python 3 (ipykernel)",
   "language": "python",
   "name": "python3"
  },
  "language_info": {
   "codemirror_mode": {
    "name": "ipython",
    "version": 3
   },
   "file_extension": ".py",
   "mimetype": "text/x-python",
   "name": "python",
   "nbconvert_exporter": "python",
   "pygments_lexer": "ipython3",
   "version": "3.9.13"
  }
 },
 "nbformat": 4,
 "nbformat_minor": 5
}
