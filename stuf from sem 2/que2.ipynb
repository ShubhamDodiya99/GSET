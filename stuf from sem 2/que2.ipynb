{
 "cells": [
  {
   "cell_type": "code",
   "execution_count": 1,
   "metadata": {
    "id": "bLWZGavKuw3M",
    "scrolled": true
   },
   "outputs": [],
   "source": [
    "#Import the necessary libraries:\n",
    "import numpy as np\n",
    "from keras.models import Sequential\n",
    "from keras.layers import Dense\n",
    "from sklearn.datasets import load_iris\n",
    "from sklearn.preprocessing import OneHotEncoder\n",
    "from sklearn.model_selection import train_test_split"
   ]
  },
  {
   "cell_type": "code",
   "execution_count": 2,
   "metadata": {
    "colab": {
     "base_uri": "https://localhost:8080/"
    },
    "id": "37Ym5MEbuw3M",
    "outputId": "12c3c8f7-36ac-4b8b-8362-7ce14261b935"
   },
   "outputs": [
    {
     "name": "stderr",
     "output_type": "stream",
     "text": [
      "/usr/local/lib/python3.10/dist-packages/sklearn/preprocessing/_encoders.py:868: FutureWarning: `sparse` was renamed to `sparse_output` in version 1.2 and will be removed in 1.4. `sparse_output` is ignored unless you leave `sparse` to its default value.\n",
      "  warnings.warn(\n"
     ]
    }
   ],
   "source": [
    "#Load and preprocess the Iris dataset\n",
    "iris = load_iris()\n",
    "X, y = iris.data, iris.target\n",
    "\n",
    "# Perform one-hot encoding on the target variable\n",
    "encoder = OneHotEncoder(sparse=False)\n",
    "y = encoder.fit_transform(y.reshape(-1, 1))\n",
    "\n",
    "# Split the dataset into training and testing sets\n",
    "X_train, X_test, y_train, y_test = train_test_split(X, y, test_size=0.2, random_state=42)"
   ]
  },
  {
   "cell_type": "code",
   "execution_count": 3,
   "metadata": {
    "id": "0iGPf5zruw3N"
   },
   "outputs": [],
   "source": [
    "#Define the model architecture\n",
    "model = Sequential()\n",
    "model.add(Dense(16, activation='relu', input_shape=(X_train.shape[1],)))\n",
    "model.add(Dense(8, activation='relu'))\n",
    "model.add(Dense(3, activation='softmax'))"
   ]
  },
  {
   "cell_type": "code",
   "execution_count": 4,
   "metadata": {
    "id": "2fd_fd5Duw3N"
   },
   "outputs": [],
   "source": [
    "# Compile the model\n",
    "model.compile(loss='categorical_crossentropy', optimizer='adam', metrics=['accuracy'])"
   ]
  },
  {
   "cell_type": "code",
   "execution_count": 5,
   "metadata": {
    "colab": {
     "base_uri": "https://localhost:8080/"
    },
    "id": "RlLheEJ4uw3O",
    "outputId": "c2891475-f94f-491b-b275-20e2f56fec58"
   },
   "outputs": [
    {
     "name": "stdout",
     "output_type": "stream",
     "text": [
      "Epoch 1/50\n",
      "4/4 [==============================] - 1s 6ms/step - loss: 1.9250 - accuracy: 0.3333\n",
      "Epoch 2/50\n",
      "4/4 [==============================] - 0s 4ms/step - loss: 1.8226 - accuracy: 0.3333\n",
      "Epoch 3/50\n",
      "4/4 [==============================] - 0s 4ms/step - loss: 1.7327 - accuracy: 0.3333\n",
      "Epoch 4/50\n",
      "4/4 [==============================] - 0s 5ms/step - loss: 1.6520 - accuracy: 0.3333\n",
      "Epoch 5/50\n",
      "4/4 [==============================] - 0s 5ms/step - loss: 1.5835 - accuracy: 0.3333\n",
      "Epoch 6/50\n",
      "4/4 [==============================] - 0s 4ms/step - loss: 1.5222 - accuracy: 0.3333\n",
      "Epoch 7/50\n",
      "4/4 [==============================] - 0s 4ms/step - loss: 1.4694 - accuracy: 0.3333\n",
      "Epoch 8/50\n",
      "4/4 [==============================] - 0s 4ms/step - loss: 1.4213 - accuracy: 0.3333\n",
      "Epoch 9/50\n",
      "4/4 [==============================] - 0s 4ms/step - loss: 1.3765 - accuracy: 0.3333\n",
      "Epoch 10/50\n",
      "4/4 [==============================] - 0s 4ms/step - loss: 1.3371 - accuracy: 0.3333\n",
      "Epoch 11/50\n",
      "4/4 [==============================] - 0s 4ms/step - loss: 1.3041 - accuracy: 0.3333\n",
      "Epoch 12/50\n",
      "4/4 [==============================] - 0s 6ms/step - loss: 1.2699 - accuracy: 0.3333\n",
      "Epoch 13/50\n",
      "4/4 [==============================] - 0s 6ms/step - loss: 1.2401 - accuracy: 0.3333\n",
      "Epoch 14/50\n",
      "4/4 [==============================] - 0s 5ms/step - loss: 1.2132 - accuracy: 0.3333\n",
      "Epoch 15/50\n",
      "4/4 [==============================] - 0s 4ms/step - loss: 1.1895 - accuracy: 0.3333\n",
      "Epoch 16/50\n",
      "4/4 [==============================] - 0s 4ms/step - loss: 1.1691 - accuracy: 0.3333\n",
      "Epoch 17/50\n",
      "4/4 [==============================] - 0s 4ms/step - loss: 1.1501 - accuracy: 0.3333\n",
      "Epoch 18/50\n",
      "4/4 [==============================] - 0s 4ms/step - loss: 1.1342 - accuracy: 0.3500\n",
      "Epoch 19/50\n",
      "4/4 [==============================] - 0s 4ms/step - loss: 1.1178 - accuracy: 0.3583\n",
      "Epoch 20/50\n",
      "4/4 [==============================] - 0s 4ms/step - loss: 1.1049 - accuracy: 0.3750\n",
      "Epoch 21/50\n",
      "4/4 [==============================] - 0s 4ms/step - loss: 1.0882 - accuracy: 0.3833\n",
      "Epoch 22/50\n",
      "4/4 [==============================] - 0s 5ms/step - loss: 1.0749 - accuracy: 0.4500\n",
      "Epoch 23/50\n",
      "4/4 [==============================] - 0s 4ms/step - loss: 1.0644 - accuracy: 0.5667\n",
      "Epoch 24/50\n",
      "4/4 [==============================] - 0s 4ms/step - loss: 1.0582 - accuracy: 0.6250\n",
      "Epoch 25/50\n",
      "4/4 [==============================] - 0s 4ms/step - loss: 1.0539 - accuracy: 0.6583\n",
      "Epoch 26/50\n",
      "4/4 [==============================] - 0s 4ms/step - loss: 1.0505 - accuracy: 0.6583\n",
      "Epoch 27/50\n",
      "4/4 [==============================] - 0s 4ms/step - loss: 1.0463 - accuracy: 0.6667\n",
      "Epoch 28/50\n",
      "4/4 [==============================] - 0s 4ms/step - loss: 1.0431 - accuracy: 0.6667\n",
      "Epoch 29/50\n",
      "4/4 [==============================] - 0s 4ms/step - loss: 1.0387 - accuracy: 0.6667\n",
      "Epoch 30/50\n",
      "4/4 [==============================] - 0s 4ms/step - loss: 1.0352 - accuracy: 0.6750\n",
      "Epoch 31/50\n",
      "4/4 [==============================] - 0s 4ms/step - loss: 1.0316 - accuracy: 0.6750\n",
      "Epoch 32/50\n",
      "4/4 [==============================] - 0s 4ms/step - loss: 1.0281 - accuracy: 0.6750\n",
      "Epoch 33/50\n",
      "4/4 [==============================] - 0s 4ms/step - loss: 1.0249 - accuracy: 0.6750\n",
      "Epoch 34/50\n",
      "4/4 [==============================] - 0s 4ms/step - loss: 1.0219 - accuracy: 0.6750\n",
      "Epoch 35/50\n",
      "4/4 [==============================] - 0s 4ms/step - loss: 1.0187 - accuracy: 0.6750\n",
      "Epoch 36/50\n",
      "4/4 [==============================] - 0s 5ms/step - loss: 1.0152 - accuracy: 0.6750\n",
      "Epoch 37/50\n",
      "4/4 [==============================] - 0s 5ms/step - loss: 1.0123 - accuracy: 0.6750\n",
      "Epoch 38/50\n",
      "4/4 [==============================] - 0s 4ms/step - loss: 1.0096 - accuracy: 0.6750\n",
      "Epoch 39/50\n",
      "4/4 [==============================] - 0s 4ms/step - loss: 1.0067 - accuracy: 0.6750\n",
      "Epoch 40/50\n",
      "4/4 [==============================] - 0s 4ms/step - loss: 1.0040 - accuracy: 0.6667\n",
      "Epoch 41/50\n",
      "4/4 [==============================] - 0s 4ms/step - loss: 1.0012 - accuracy: 0.6667\n",
      "Epoch 42/50\n",
      "4/4 [==============================] - 0s 4ms/step - loss: 0.9986 - accuracy: 0.6667\n",
      "Epoch 43/50\n",
      "4/4 [==============================] - 0s 4ms/step - loss: 0.9960 - accuracy: 0.6667\n",
      "Epoch 44/50\n",
      "4/4 [==============================] - 0s 4ms/step - loss: 0.9933 - accuracy: 0.6667\n",
      "Epoch 45/50\n",
      "4/4 [==============================] - 0s 4ms/step - loss: 0.9906 - accuracy: 0.6667\n",
      "Epoch 46/50\n",
      "4/4 [==============================] - 0s 4ms/step - loss: 0.9878 - accuracy: 0.6667\n",
      "Epoch 47/50\n",
      "4/4 [==============================] - 0s 4ms/step - loss: 0.9851 - accuracy: 0.6667\n",
      "Epoch 48/50\n",
      "4/4 [==============================] - 0s 4ms/step - loss: 0.9823 - accuracy: 0.6583\n",
      "Epoch 49/50\n",
      "4/4 [==============================] - 0s 6ms/step - loss: 0.9795 - accuracy: 0.6667\n",
      "Epoch 50/50\n",
      "4/4 [==============================] - 0s 4ms/step - loss: 0.9768 - accuracy: 0.6583\n"
     ]
    },
    {
     "data": {
      "text/plain": [
       "<keras.callbacks.History at 0x7ffaf47d6260>"
      ]
     },
     "execution_count": 5,
     "metadata": {},
     "output_type": "execute_result"
    }
   ],
   "source": [
    "#Train the model\n",
    "model.fit(X_train, y_train, epochs=50, batch_size=32)"
   ]
  },
  {
   "cell_type": "code",
   "execution_count": 6,
   "metadata": {
    "colab": {
     "base_uri": "https://localhost:8080/"
    },
    "id": "T_C33bmEuw3O",
    "outputId": "f886d61a-d47f-45f5-aa0f-2c8f72ac908c"
   },
   "outputs": [
    {
     "name": "stdout",
     "output_type": "stream",
     "text": [
      "1/1 [==============================] - 0s 182ms/step - loss: 0.9870 - accuracy: 0.6333\n",
      "Test Loss: 0.9870311617851257\n",
      "Test Accuracy: 0.6333333253860474\n"
     ]
    }
   ],
   "source": [
    "#Evaluate the model\n",
    "loss, accuracy = model.evaluate(X_test, y_test)\n",
    "print(\"Test Loss:\", loss)\n",
    "print(\"Test Accuracy:\", accuracy)"
   ]
  },
  {
   "cell_type": "code",
   "execution_count": 7,
   "metadata": {
    "colab": {
     "base_uri": "https://localhost:8080/"
    },
    "id": "48jbdzxfuw3P",
    "outputId": "ce58c827-7896-4fe2-a4a3-5871024b1fdb"
   },
   "outputs": [
    {
     "name": "stdout",
     "output_type": "stream",
     "text": [
      "1/1 [==============================] - 0s 92ms/step\n"
     ]
    }
   ],
   "source": [
    "#Make predictions:\n",
    "y_pred = model.predict(X_test)"
   ]
  },
  {
   "cell_type": "code",
   "execution_count": 8,
   "metadata": {
    "colab": {
     "base_uri": "https://localhost:8080/"
    },
    "id": "TxS0kZMzuw3Q",
    "outputId": "9cca0ad4-8b30-496b-db5c-6f4b2c0c1ae8"
   },
   "outputs": [
    {
     "data": {
      "text/plain": [
       "array([[0.25847933, 0.4111297 , 0.33039096],\n",
       "       [0.43602413, 0.17252328, 0.39145258],\n",
       "       [0.20831557, 0.49572793, 0.2959565 ],\n",
       "       [0.26028886, 0.40817997, 0.3315312 ],\n",
       "       [0.25794488, 0.41166788, 0.33038715],\n",
       "       [0.4255709 , 0.18407674, 0.3903524 ],\n",
       "       [0.29118398, 0.36000046, 0.34881556],\n",
       "       [0.24681932, 0.42963004, 0.32355058],\n",
       "       [0.25177196, 0.42229056, 0.32593742],\n",
       "       [0.27734473, 0.38132754, 0.34132782],\n",
       "       [0.2492546 , 0.42575532, 0.32499006],\n",
       "       [0.4147431 , 0.1965838 , 0.38867298],\n",
       "       [0.4439464 , 0.1644696 , 0.39158395],\n",
       "       [0.41500127, 0.19620049, 0.38879818],\n",
       "       [0.43366808, 0.17528097, 0.3910509 ],\n",
       "       [0.26211718, 0.40489215, 0.33299068],\n",
       "       [0.23023051, 0.4577754 , 0.31199405],\n",
       "       [0.26981005, 0.39338556, 0.3368044 ],\n",
       "       [0.25947428, 0.40969342, 0.3308323 ],\n",
       "       [0.23109289, 0.45644417, 0.3124629 ],\n",
       "       [0.40693283, 0.20545028, 0.387617  ],\n",
       "       [0.25069144, 0.4236835 , 0.32562506],\n",
       "       [0.41343775, 0.19776359, 0.38879862],\n",
       "       [0.23212473, 0.45469183, 0.31318343],\n",
       "       [0.23798935, 0.44361115, 0.31839946],\n",
       "       [0.24238423, 0.4371437 , 0.32047197],\n",
       "       [0.22874413, 0.46050683, 0.310749  ],\n",
       "       [0.23136902, 0.45559534, 0.31303567],\n",
       "       [0.40967414, 0.20234089, 0.387985  ],\n",
       "       [0.40596503, 0.20657337, 0.3874616 ]], dtype=float32)"
      ]
     },
     "execution_count": 8,
     "metadata": {},
     "output_type": "execute_result"
    }
   ],
   "source": [
    "y_pred"
   ]
  },
  {
   "cell_type": "code",
   "execution_count": null,
   "metadata": {
    "id": "Gv9q5-2wuw3Q"
   },
   "outputs": [],
   "source": []
  },
  {
   "cell_type": "code",
   "execution_count": null,
   "metadata": {
    "id": "LpLu3RHRuw3R"
   },
   "outputs": [],
   "source": []
  },
  {
   "cell_type": "code",
   "execution_count": null,
   "metadata": {
    "id": "hWypp1SEuw3R"
   },
   "outputs": [],
   "source": []
  }
 ],
 "metadata": {
  "colab": {
   "provenance": []
  },
  "kernelspec": {
   "display_name": "Python 3 (ipykernel)",
   "language": "python",
   "name": "python3"
  },
  "language_info": {
   "codemirror_mode": {
    "name": "ipython",
    "version": 3
   },
   "file_extension": ".py",
   "mimetype": "text/x-python",
   "name": "python",
   "nbconvert_exporter": "python",
   "pygments_lexer": "ipython3",
   "version": "3.9.13"
  }
 },
 "nbformat": 4,
 "nbformat_minor": 1
}
