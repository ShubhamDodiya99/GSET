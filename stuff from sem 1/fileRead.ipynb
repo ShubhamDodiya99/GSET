{
 "cells": [
  {
   "cell_type": "code",
   "execution_count": 4,
   "id": "35753210",
   "metadata": {},
   "outputs": [],
   "source": [
    "# open both files\n",
    "with open('first.txt','r') as firstfile, open('second.txt','a') as secondfile:\n",
    "\n",
    "    # read content from first file\n",
    "    for line in firstfile:\n",
    "\n",
    "            # append content to second file\n",
    "            secondfile.write(line)"
   ]
  },
  {
   "cell_type": "code",
   "execution_count": null,
   "id": "89167fac",
   "metadata": {},
   "outputs": [],
   "source": []
  },
  {
   "cell_type": "code",
   "execution_count": null,
   "id": "959ce666",
   "metadata": {},
   "outputs": [],
   "source": []
  }
 ],
 "metadata": {
  "kernelspec": {
   "display_name": "Python 3 (ipykernel)",
   "language": "python",
   "name": "python3"
  },
  "language_info": {
   "codemirror_mode": {
    "name": "ipython",
    "version": 3
   },
   "file_extension": ".py",
   "mimetype": "text/x-python",
   "name": "python",
   "nbconvert_exporter": "python",
   "pygments_lexer": "ipython3",
   "version": "3.9.13"
  }
 },
 "nbformat": 4,
 "nbformat_minor": 5
}
