{
 "cells": [
  {
   "cell_type": "code",
   "execution_count": 2,
   "id": "1d5b3182",
   "metadata": {},
   "outputs": [
    {
     "name": "stdout",
     "output_type": "stream",
     "text": [
      "Gross Sallary of employe is 27756.0\n"
     ]
    }
   ],
   "source": [
    "scale = 15600\n",
    "GP = 6000            #GP-->Grade Pay\n",
    "\n",
    "basic = scale + GP\n",
    "\n",
    "DA = basic*0.20     #Dearness Allowance is 20% of basic\n",
    "HRA = basic*0.12    #House Rent Allowance is 12% of basic\n",
    "TA = basic*0.065    #Transport Allowance is 6.50% of basic\n",
    "PF = basic*0.10     #Provident Fund is 10% of basic\n",
    "\n",
    "net_pay = basic + DA + HRA + TA\n",
    "gross_sallary = net_pay - PF\n",
    "\n",
    "print(\"Gross Sallary of employee is\",gross_sallary)"
   ]
  },
  {
   "cell_type": "code",
   "execution_count": null,
   "id": "bb41bb84",
   "metadata": {},
   "outputs": [],
   "source": []
  }
 ],
 "metadata": {
  "kernelspec": {
   "display_name": "Python 3 (ipykernel)",
   "language": "python",
   "name": "python3"
  },
  "language_info": {
   "codemirror_mode": {
    "name": "ipython",
    "version": 3
   },
   "file_extension": ".py",
   "mimetype": "text/x-python",
   "name": "python",
   "nbconvert_exporter": "python",
   "pygments_lexer": "ipython3",
   "version": "3.9.13"
  }
 },
 "nbformat": 4,
 "nbformat_minor": 5
}
