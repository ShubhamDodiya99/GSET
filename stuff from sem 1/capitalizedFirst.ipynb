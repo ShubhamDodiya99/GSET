{
 "cells": [
  {
   "cell_type": "code",
   "execution_count": 8,
   "id": "d8325cd5",
   "metadata": {},
   "outputs": [
    {
     "name": "stdout",
     "output_type": "stream",
     "text": [
      "The Title() Function Is Used To Convert \n",
      "\n",
      "The First Character In Each Word To Uppercase \n",
      "\n",
      "And The Remaining Characters To Lowercase.\n"
     ]
    }
   ],
   "source": [
    "# A file named \"cap\", will be opened with the reading mode.\n",
    "file_cap = open('cap.txt', 'r')\n",
    "\n",
    "# This will traverse through every line one by one in the file\n",
    "for line in file_cap:\n",
    "    \n",
    "    # This will convert the content\n",
    "    # of that line with capitalized\n",
    "    # first letter of every word\n",
    "    output = line.title()\n",
    "\n",
    "    # This will print the output\n",
    "    print(output)"
   ]
  },
  {
   "cell_type": "code",
   "execution_count": null,
   "id": "e52dca49",
   "metadata": {},
   "outputs": [],
   "source": []
  },
  {
   "cell_type": "code",
   "execution_count": null,
   "id": "be9e8f38",
   "metadata": {},
   "outputs": [],
   "source": [
    "    "
   ]
  }
 ],
 "metadata": {
  "kernelspec": {
   "display_name": "Python 3 (ipykernel)",
   "language": "python",
   "name": "python3"
  },
  "language_info": {
   "codemirror_mode": {
    "name": "ipython",
    "version": 3
   },
   "file_extension": ".py",
   "mimetype": "text/x-python",
   "name": "python",
   "nbconvert_exporter": "python",
   "pygments_lexer": "ipython3",
   "version": "3.9.13"
  }
 },
 "nbformat": 4,
 "nbformat_minor": 5
}
