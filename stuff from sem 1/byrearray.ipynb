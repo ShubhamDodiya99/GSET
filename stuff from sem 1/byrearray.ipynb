{
 "cells": [
  {
   "cell_type": "code",
   "execution_count": 34,
   "id": "16b69fc5",
   "metadata": {},
   "outputs": [
    {
     "name": "stdout",
     "output_type": "stream",
     "text": [
      "bytearray(b'xDE\\xad\\xbe\\xef')\n",
      "<class 'bytearray'>\n"
     ]
    }
   ],
   "source": [
    "mutable_bytes = bytearray(b'xDE\\xAD\\xBE\\xEF')\n",
    "print(mutable_bytes)\n",
    "print(type(mutable_bytes))"
   ]
  },
  {
   "cell_type": "code",
   "execution_count": 35,
   "id": "563d68e1",
   "metadata": {
    "scrolled": true
   },
   "outputs": [
    {
     "name": "stdout",
     "output_type": "stream",
     "text": [
      "173\n"
     ]
    }
   ],
   "source": [
    "print(mutable_bytes[3])"
   ]
  },
  {
   "cell_type": "code",
   "execution_count": 36,
   "id": "9fdfba27",
   "metadata": {},
   "outputs": [
    {
     "name": "stdout",
     "output_type": "stream",
     "text": [
      "bytearray(b'xDE\\xa0\\xbe\\xef')\n"
     ]
    }
   ],
   "source": [
    "mutable_bytes[3] = 160\n",
    "print(mutable_bytes)"
   ]
  },
  {
   "cell_type": "code",
   "execution_count": 37,
   "id": "006939b1",
   "metadata": {},
   "outputs": [
    {
     "name": "stdout",
     "output_type": "stream",
     "text": [
      "bytearray(b'E\\xa0\\xbe')\n"
     ]
    }
   ],
   "source": [
    "print(mutable_bytes[2:5])"
   ]
  },
  {
   "cell_type": "code",
   "execution_count": null,
   "id": "74d9520c",
   "metadata": {},
   "outputs": [],
   "source": [
    " "
   ]
  }
 ],
 "metadata": {
  "kernelspec": {
   "display_name": "Python 3 (ipykernel)",
   "language": "python",
   "name": "python3"
  },
  "language_info": {
   "codemirror_mode": {
    "name": "ipython",
    "version": 3
   },
   "file_extension": ".py",
   "mimetype": "text/x-python",
   "name": "python",
   "nbconvert_exporter": "python",
   "pygments_lexer": "ipython3",
   "version": "3.9.13"
  }
 },
 "nbformat": 4,
 "nbformat_minor": 5
}
