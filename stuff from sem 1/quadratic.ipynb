{
 "cells": [
  {
   "cell_type": "code",
   "execution_count": 9,
   "id": "c44eeed3",
   "metadata": {},
   "outputs": [
    {
     "name": "stdout",
     "output_type": "stream",
     "text": [
      "Complex Roots\n",
      "-0.1  + i 6.244997998398398\n",
      "-0.1  - i 6.244997998398398\n"
     ]
    }
   ],
   "source": [
    "import math \n",
    "  \n",
    "  \n",
    "# function for finding roots\n",
    "def equationroots( a, b, c): \n",
    "  \n",
    "    # calculating discriminant using formula\n",
    "    dis = b * b - 4 * a * c \n",
    "    sqrt_val = math.sqrt(abs(dis)) \n",
    "      \n",
    "    # checking condition for discriminant\n",
    "    if dis > 0: \n",
    "        print(\" real and different roots \") \n",
    "        print((-b + sqrt_val)/(2 * a)) \n",
    "        print((-b - sqrt_val)/(2 * a)) \n",
    "      \n",
    "    elif dis == 0: \n",
    "        print(\" real and same roots\") \n",
    "        print(-b / (2 * a)) \n",
    "      \n",
    "    # when discriminant is less than 0\n",
    "    else:\n",
    "        print(\"Complex Roots\") \n",
    "        print(- b / (2 * a), \" + i\", sqrt_val) \n",
    "        print(- b / (2 * a), \" - i\", sqrt_val) \n",
    "  \n",
    "# Driver Program \n",
    "a = 5\n",
    "b = 1\n",
    "c = 2\n",
    "  \n",
    "# If a is 0, then incorrect equation\n",
    "if a == 0: \n",
    "        print(\"Input correct quadratic equation\") \n",
    "  \n",
    "else:\n",
    "    equationroots(a, b, c)"
   ]
  },
  {
   "cell_type": "code",
   "execution_count": 10,
   "id": "d8d1d75d",
   "metadata": {},
   "outputs": [
    {
     "name": "stdout",
     "output_type": "stream",
     "text": [
      "The roots are\n",
      "(-3.414213562373095+0j)\n",
      "(-0.5857864376269049+0j)\n"
     ]
    }
   ],
   "source": [
    "# import complex math module\n",
    "import cmath\n",
    "  \n",
    "a = 1\n",
    "b = 4\n",
    "c = 2\n",
    "  \n",
    "# calculating  the discriminant\n",
    "dis = (b**2) - (4 * a*c)\n",
    "  \n",
    "# find two results\n",
    "ans1 = (-b-cmath.sqrt(dis))/(2 * a)\n",
    "ans2 = (-b + cmath.sqrt(dis))/(2 * a)\n",
    "  \n",
    "# printing the results\n",
    "print('The roots are')\n",
    "print(ans1)\n",
    "print(ans2)"
   ]
  },
  {
   "cell_type": "code",
   "execution_count": null,
   "id": "6c5198b4",
   "metadata": {},
   "outputs": [],
   "source": []
  }
 ],
 "metadata": {
  "kernelspec": {
   "display_name": "Python 3 (ipykernel)",
   "language": "python",
   "name": "python3"
  },
  "language_info": {
   "codemirror_mode": {
    "name": "ipython",
    "version": 3
   },
   "file_extension": ".py",
   "mimetype": "text/x-python",
   "name": "python",
   "nbconvert_exporter": "python",
   "pygments_lexer": "ipython3",
   "version": "3.9.13"
  }
 },
 "nbformat": 4,
 "nbformat_minor": 5
}
