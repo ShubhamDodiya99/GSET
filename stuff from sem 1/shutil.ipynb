{
 "cells": [
  {
   "cell_type": "code",
   "execution_count": 7,
   "id": "d8d3b537",
   "metadata": {},
   "outputs": [],
   "source": [
    "# open both files\n",
    "with open('first.txt','r') as firstfile, open('second.txt','w') as secondfile:\n",
    "\n",
    "    # read content from first file\n",
    "    for line in firstfile:\n",
    "\n",
    "            # write content to second file\n",
    "            secondfile.write(line)"
   ]
  },
  {
   "cell_type": "code",
   "execution_count": 10,
   "id": "5325b3bf",
   "metadata": {},
   "outputs": [
    {
     "data": {
      "text/plain": [
       "'second.txt'"
      ]
     },
     "execution_count": 10,
     "metadata": {},
     "output_type": "execute_result"
    }
   ],
   "source": [
    "# import module\n",
    "import shutil\n",
    "\n",
    "# use copyfile()\n",
    "shutil.copyfile('first.txt','second.txt')"
   ]
  },
  {
   "cell_type": "code",
   "execution_count": null,
   "id": "de8c519f",
   "metadata": {},
   "outputs": [],
   "source": []
  },
  {
   "cell_type": "code",
   "execution_count": null,
   "id": "30e9cc47",
   "metadata": {},
   "outputs": [],
   "source": []
  }
 ],
 "metadata": {
  "kernelspec": {
   "display_name": "Python 3 (ipykernel)",
   "language": "python",
   "name": "python3"
  },
  "language_info": {
   "codemirror_mode": {
    "name": "ipython",
    "version": 3
   },
   "file_extension": ".py",
   "mimetype": "text/x-python",
   "name": "python",
   "nbconvert_exporter": "python",
   "pygments_lexer": "ipython3",
   "version": "3.9.13"
  }
 },
 "nbformat": 4,
 "nbformat_minor": 5
}
