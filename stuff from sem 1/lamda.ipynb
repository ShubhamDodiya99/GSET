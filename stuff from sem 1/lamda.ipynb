{
 "cells": [
  {
   "cell_type": "code",
   "execution_count": 3,
   "id": "67daca9c",
   "metadata": {},
   "outputs": [
    {
     "name": "stdout",
     "output_type": "stream",
     "text": [
      "DIRDAMALAH\n"
     ]
    }
   ],
   "source": [
    "str1 = 'HalaMadrid'\n",
    "\n",
    "# lambda returns a function object\n",
    "rev_upper = lambda string: string.upper()[::-1]\n",
    "print(rev_upper(str1))"
   ]
  },
  {
   "cell_type": "code",
   "execution_count": 4,
   "id": "db41ef7c",
   "metadata": {},
   "outputs": [],
   "source": [
    "greet = lambda : print('Hello World')"
   ]
  },
  {
   "cell_type": "code",
   "execution_count": 6,
   "id": "5c3b73a4",
   "metadata": {},
   "outputs": [
    {
     "name": "stdout",
     "output_type": "stream",
     "text": [
      "Hello World\n"
     ]
    }
   ],
   "source": [
    "greet()"
   ]
  },
  {
   "cell_type": "code",
   "execution_count": 11,
   "id": "0e4a6524",
   "metadata": {},
   "outputs": [
    {
     "name": "stdout",
     "output_type": "stream",
     "text": [
      "Hello World\n"
     ]
    }
   ],
   "source": [
    "# declare a lambda function\n",
    "greet = lambda : print('Hello World')\n",
    "\n",
    "# call lambda function\n",
    "greet()"
   ]
  },
  {
   "cell_type": "code",
   "execution_count": 9,
   "id": "8953aec8",
   "metadata": {},
   "outputs": [
    {
     "name": "stdout",
     "output_type": "stream",
     "text": [
      "Hey there, Delilah\n"
     ]
    }
   ],
   "source": [
    "# lambda that accepts one argument\n",
    "greet_user = lambda name : print('Hey there,', name)\n",
    "\n",
    "# lambda call\n",
    "greet_user('Delilah')"
   ]
  },
  {
   "cell_type": "code",
   "execution_count": 10,
   "id": "ac62cf9c",
   "metadata": {},
   "outputs": [
    {
     "name": "stdout",
     "output_type": "stream",
     "text": [
      "Hey there, Delilah\n"
     ]
    }
   ],
   "source": [
    "# lambda that accepts one argument\n",
    "greet_user = lambda name : print('Hey there,', name)\n",
    "\n",
    "# lambda call\n",
    "greet_user('Delilah')\n",
    "\n",
    "# Output: Hey there, Delilah"
   ]
  },
  {
   "cell_type": "code",
   "execution_count": null,
   "id": "27f37c70",
   "metadata": {},
   "outputs": [],
   "source": []
  }
 ],
 "metadata": {
  "kernelspec": {
   "display_name": "Python 3 (ipykernel)",
   "language": "python",
   "name": "python3"
  },
  "language_info": {
   "codemirror_mode": {
    "name": "ipython",
    "version": 3
   },
   "file_extension": ".py",
   "mimetype": "text/x-python",
   "name": "python",
   "nbconvert_exporter": "python",
   "pygments_lexer": "ipython3",
   "version": "3.9.13"
  }
 },
 "nbformat": 4,
 "nbformat_minor": 5
}
