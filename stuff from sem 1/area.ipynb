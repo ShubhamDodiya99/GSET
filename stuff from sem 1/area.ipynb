{
 "cells": [
  {
   "cell_type": "code",
   "execution_count": 6,
   "id": "0cf57a9c",
   "metadata": {},
   "outputs": [
    {
     "name": "stdout",
     "output_type": "stream",
     "text": [
      "Enter first side: 25\n",
      "Enter second side: 11\n",
      "Enter third side: 19\n",
      "The area of the triangle is 98.19\n"
     ]
    }
   ],
   "source": [
    "# Three sides of the triangle is a, b and c:  \n",
    "a = float(input('Enter first side: '))  \n",
    "b = float(input('Enter second side: '))  \n",
    "c = float(input('Enter third side: '))  \n",
    "  \n",
    "# calculate the semi-perimeter  \n",
    "s = (a + b + c) / 2  \n",
    "  \n",
    "# calculate the area  \n",
    "area = (s*(s-a)*(s-b)*(s-c)) ** 0.5\n",
    "\n",
    "print('The area of the triangle is %0.2f' %area)     # %0.2f --> to set float point in data"
   ]
  },
  {
   "cell_type": "code",
   "execution_count": 13,
   "id": "9c97bf86",
   "metadata": {},
   "outputs": [
    {
     "name": "stdout",
     "output_type": "stream",
     "text": [
      "Enter side of square: 17\n",
      "The area of the square is 289\n"
     ]
    }
   ],
   "source": [
    "# side of the squae is x: \n",
    "x = int(input('Enter side of square: '))\n",
    "\n",
    "# calculate the area\n",
    "area = x*x\n",
    "# area = x**2  <--we can also use this formula\n",
    "\n",
    "print('The area of the square is',area)"
   ]
  }
 ],
 "metadata": {
  "kernelspec": {
   "display_name": "Python 3 (ipykernel)",
   "language": "python",
   "name": "python3"
  },
  "language_info": {
   "codemirror_mode": {
    "name": "ipython",
    "version": 3
   },
   "file_extension": ".py",
   "mimetype": "text/x-python",
   "name": "python",
   "nbconvert_exporter": "python",
   "pygments_lexer": "ipython3",
   "version": "3.9.13"
  }
 },
 "nbformat": 4,
 "nbformat_minor": 5
}
