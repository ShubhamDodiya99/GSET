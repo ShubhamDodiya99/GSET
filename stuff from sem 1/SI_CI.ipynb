{
 "cells": [
  {
   "cell_type": "code",
   "execution_count": 9,
   "id": "e4ef7ba6",
   "metadata": {},
   "outputs": [
    {
     "name": "stdout",
     "output_type": "stream",
     "text": [
      "The Simple Interest is 750.00\n"
     ]
    }
   ],
   "source": [
    "p = 5000\n",
    "t = 3\n",
    "r = 5\n",
    "\n",
    "si = (p * t * r)/100\n",
    "\n",
    "print('The Simple Interest is %0.2f' %si)"
   ]
  },
  {
   "cell_type": "code",
   "execution_count": 8,
   "id": "683b0561",
   "metadata": {},
   "outputs": [
    {
     "name": "stdout",
     "output_type": "stream",
     "text": [
      "The Compound Interest is 788.13\n"
     ]
    }
   ],
   "source": [
    "p = 5000\n",
    "t = 3\n",
    "r = 5\n",
    "\n",
    "a = p*(1+(r/100))**t\n",
    "\n",
    "ci = a-p\n",
    "\n",
    "print('The Compound Interest is %0.2f' %ci)"
   ]
  },
  {
   "cell_type": "code",
   "execution_count": null,
   "id": "fd81362e",
   "metadata": {},
   "outputs": [],
   "source": []
  }
 ],
 "metadata": {
  "kernelspec": {
   "display_name": "Python 3 (ipykernel)",
   "language": "python",
   "name": "python3"
  },
  "language_info": {
   "codemirror_mode": {
    "name": "ipython",
    "version": 3
   },
   "file_extension": ".py",
   "mimetype": "text/x-python",
   "name": "python",
   "nbconvert_exporter": "python",
   "pygments_lexer": "ipython3",
   "version": "3.9.13"
  }
 },
 "nbformat": 4,
 "nbformat_minor": 5
}
