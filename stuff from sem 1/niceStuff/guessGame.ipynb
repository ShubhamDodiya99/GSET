{
 "cells": [
  {
   "cell_type": "code",
   "execution_count": 1,
   "id": "618ce541",
   "metadata": {},
   "outputs": [
    {
     "name": "stdout",
     "output_type": "stream",
     "text": [
      "This is a guessing game\n",
      "What could be the number ? 5\n",
      "9\n",
      "too low\n"
     ]
    }
   ],
   "source": [
    "print(\"This is a guessing game\")\n",
    "import random\n",
    "random_number = random.randrange(1,10)\n",
    "guess = int(input(\"What could be the number ? \"))\n",
    "correct = False\n",
    "print(random_number)\n",
    "\n",
    "while not correct:\n",
    "    if guess==random_number:\n",
    "        print(\"Congrats you got it\")\n",
    "        correct=True\n",
    "    elif guess>random_number:\n",
    "        print(\"Too high\")\n",
    "        break\n",
    "    elif guess<random_number:\n",
    "        print(\"too low\")\n",
    "        break\n",
    "    else:\n",
    "        print(\"try something else\")\n",
    "        break"
   ]
  },
  {
   "cell_type": "code",
   "execution_count": null,
   "id": "e5cf5749",
   "metadata": {},
   "outputs": [],
   "source": []
  }
 ],
 "metadata": {
  "kernelspec": {
   "display_name": "Python 3 (ipykernel)",
   "language": "python",
   "name": "python3"
  },
  "language_info": {
   "codemirror_mode": {
    "name": "ipython",
    "version": 3
   },
   "file_extension": ".py",
   "mimetype": "text/x-python",
   "name": "python",
   "nbconvert_exporter": "python",
   "pygments_lexer": "ipython3",
   "version": "3.9.13"
  }
 },
 "nbformat": 4,
 "nbformat_minor": 5
}
