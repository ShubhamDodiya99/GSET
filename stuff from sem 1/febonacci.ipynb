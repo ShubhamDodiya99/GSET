{
 "cells": [
  {
   "cell_type": "code",
   "execution_count": 5,
   "id": "22e27aec",
   "metadata": {},
   "outputs": [
    {
     "name": "stdout",
     "output_type": "stream",
     "text": [
      "Enter maximum term of Fibonacci series: 50\n",
      "0, 1, 1, 2, 3, 5, 8, 13, 21, 34, "
     ]
    }
   ],
   "source": [
    "# Python program to generate Fibonacci Series\n",
    "\n",
    "# Defining function to generate Fibonacci series\n",
    "def generate_fibonacci(n):\n",
    "    a, b = 0, 1\n",
    "    while a < n:\n",
    "        # Print number\n",
    "        print(a, end=', ')\n",
    "\n",
    "        # Calculate next term\n",
    "        next_num = a + b\n",
    "\n",
    "        # Set a = b & b = next_num\n",
    "        a, b = b, next_num\n",
    "\n",
    "# Input\n",
    "max_term = int(input('Enter maximum term of Fibonacci series: '))\n",
    "\n",
    "# Function Call\n",
    "generate_fibonacci(max_term)"
   ]
  },
  {
   "cell_type": "code",
   "execution_count": 4,
   "id": "cfd5e27e",
   "metadata": {},
   "outputs": [
    {
     "name": "stdout",
     "output_type": "stream",
     "text": [
      "1\n",
      "1\n",
      "2\n",
      "3\n",
      "5\n",
      "8\n",
      "13\n",
      "21\n",
      "34\n"
     ]
    }
   ],
   "source": [
    "x,y=0,1\n",
    "\n",
    "while y<50:\n",
    "    print(y)\n",
    "    x,y = y,x+y"
   ]
  },
  {
   "cell_type": "code",
   "execution_count": null,
   "id": "de130983",
   "metadata": {},
   "outputs": [],
   "source": []
  }
 ],
 "metadata": {
  "kernelspec": {
   "display_name": "Python 3 (ipykernel)",
   "language": "python",
   "name": "python3"
  },
  "language_info": {
   "codemirror_mode": {
    "name": "ipython",
    "version": 3
   },
   "file_extension": ".py",
   "mimetype": "text/x-python",
   "name": "python",
   "nbconvert_exporter": "python",
   "pygments_lexer": "ipython3",
   "version": "3.9.13"
  }
 },
 "nbformat": 4,
 "nbformat_minor": 5
}
