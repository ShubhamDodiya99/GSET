{
 "cells": [
  {
   "cell_type": "code",
   "execution_count": 28,
   "id": "9245a823",
   "metadata": {},
   "outputs": [
    {
     "name": "stdout",
     "output_type": "stream",
     "text": [
      "200.75\n"
     ]
    }
   ],
   "source": [
    "n = 51\n",
    "if 0<n<=50:\n",
    "    print(\"your \",(n*2.6)+25)\n",
    "elif 50<n<=100:\n",
    "    print((n*3.25)+35)"
   ]
  },
  {
   "cell_type": "code",
   "execution_count": 27,
   "id": "05b668e4",
   "metadata": {},
   "outputs": [
    {
     "name": "stdout",
     "output_type": "stream",
     "text": [
      "total consumable unit per money is\n",
      "                      surcharge is\n"
     ]
    }
   ],
   "source": [
    "print(\"total consumable unit per money is\\n                      surcharge is\") "
   ]
  },
  {
   "cell_type": "code",
   "execution_count": 1,
   "id": "aab026e7",
   "metadata": {},
   "outputs": [
    {
     "ename": "SyntaxError",
     "evalue": "invalid syntax (3428106275.py, line 4)",
     "output_type": "error",
     "traceback": [
      "\u001b[1;36m  File \u001b[1;32m\"C:\\Users\\shubh\\AppData\\Local\\Temp\\ipykernel_8212\\3428106275.py\"\u001b[1;36m, line \u001b[1;32m4\u001b[0m\n\u001b[1;33m    if(units<=50):          #0 to 50\u001b[0m\n\u001b[1;37m                 ^\u001b[0m\n\u001b[1;31mSyntaxError\u001b[0m\u001b[1;31m:\u001b[0m invalid syntax\n"
     ]
    }
   ],
   "source": [
    "#program for calculating electricity bill in Python\n",
    "units=int(input(\"please enter the number of units you consumed in a month: \")\n",
    "\n",
    "if(units<=50):          #0 to 50\n",
    "    payAmount=units*2.6\n",
    "    surcharge=25.00\n",
    "\n",
    "elif(units<=100):       #51 to 100\n",
    "    payAmount=(50*2.6)+(units-50)*3.25\n",
    "    surcharge=35.00\n",
    "\n",
    "elif(units<=200):       #101 to 200\n",
    "    payAmount=(50*2.6)+(50*3.25)+(units-100)*4.60\n",
    "    surcharge=45.00\n",
    "\n",
    "elif(units>200):        #more than 200\n",
    "    payAmount=(50*2.6)+(50*3.25)+(100*4.60)+(units-200)*5.35\n",
    "    surcharge=55.00\n",
    "\n",
    "Total=payAmount+surcharge;\n",
    "print(\"\\nElecticity bill=%.2f\" %Total)"
   ]
  },
  {
   "cell_type": "code",
   "execution_count": 8,
   "id": "03e8378b",
   "metadata": {},
   "outputs": [
    {
     "name": "stdout",
     "output_type": "stream",
     "text": [
      "number of units consumed in a month: 120\n",
      "\n",
      "Electicity bill=442.00\n"
     ]
    }
   ],
   "source": [
    "#program for calculating electricity bill in Python\n",
    "units=int(input(\"number of units consumed in a month: \"))\n",
    "\n",
    "# 0 to 50 units\n",
    "if(units<=50):\n",
    "    payAmount=units*2.6\n",
    "    surcharge=25.00\n",
    "# 51 to 100 units\n",
    "elif(units<=100):\n",
    "    payAmount=(50*2.6)+(units-50)*3.25\n",
    "    surcharge=35.00\n",
    "# 101 to 200 units\n",
    "elif(units<=200):\n",
    "    payAmount=(50*2.6)+(50*3.5)+(units-100)*4.60\n",
    "    surcharge=45.00\n",
    "# more than 200 units\n",
    "elif(units>200):\n",
    "    payAmount=(50*2.6)+(50*3.25)+(100*4.60)+(units-200)*5.35\n",
    "    surcharge=55.00\n",
    "\n",
    "Total=payAmount+surcharge;\n",
    "print(\"\\nElecticity bill=%.2f\" %Total)"
   ]
  },
  {
   "cell_type": "code",
   "execution_count": null,
   "id": "ca2f6385",
   "metadata": {},
   "outputs": [],
   "source": []
  },
  {
   "cell_type": "code",
   "execution_count": null,
   "id": "5a25ef41",
   "metadata": {},
   "outputs": [],
   "source": []
  }
 ],
 "metadata": {
  "kernelspec": {
   "display_name": "Python 3 (ipykernel)",
   "language": "python",
   "name": "python3"
  },
  "language_info": {
   "codemirror_mode": {
    "name": "ipython",
    "version": 3
   },
   "file_extension": ".py",
   "mimetype": "text/x-python",
   "name": "python",
   "nbconvert_exporter": "python",
   "pygments_lexer": "ipython3",
   "version": "3.9.13"
  }
 },
 "nbformat": 4,
 "nbformat_minor": 5
}
