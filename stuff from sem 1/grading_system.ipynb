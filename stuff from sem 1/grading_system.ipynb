{
 "cells": [
  {
   "cell_type": "code",
   "execution_count": 25,
   "id": "97a6a1c2",
   "metadata": {},
   "outputs": [
    {
     "name": "stdout",
     "output_type": "stream",
     "text": [
      "Student's name: Prachi\n",
      "Total marks is 100\n",
      "Marks obtained by Prachi is: 87\n",
      "Congratulation! Prachi, You received an AA grade\n"
     ]
    }
   ],
   "source": [
    "student = input(\"Student's name: \")\n",
    "print(\"Total marks is 100\")\n",
    "marks = int(input(\"Marks obtained by {} is: \".format(student)))\n",
    "if marks>=85:\n",
    "    print(\"Congratulation! {}, You received an AA grade\".format(student))\n",
    "elif 75<=marks<=84:\n",
    "    print(\"Congratulation! {}, You received an AB grade\".format(student))\n",
    "elif 65<=marks<=74:\n",
    "    print(\"Congratulation! {}, You received an BB grade\".format(student))\n",
    "elif 55<=marks<=64:\n",
    "    print(\"Congratulation! {}, You received an BC grade\".format(student))\n",
    "elif 45<=marks<=54:\n",
    "    print(\"Congratulation! {}, You received an CC grade\".format(student))\n",
    "elif 40<=marks<=44:\n",
    "    print(\"Congratulation! {}, You received an CD grade\".format(student))\n",
    "elif 35<=marks<=39:\n",
    "    print(\"Congratulation! {}, You received an DD grade\".format(student))\n",
    "else:\n",
    "    print(\"Sorry! {}, You received an FF grade\".format(student))\n"
   ]
  },
  {
   "cell_type": "code",
   "execution_count": null,
   "id": "5fee9984",
   "metadata": {},
   "outputs": [],
   "source": [
    "student = input(\"Student's name: \")\n",
    "print(\"Total marks is 100\")\n",
    "marks = int(input(\"Marks obtained by {} is: \".format(student)))"
   ]
  }
 ],
 "metadata": {
  "kernelspec": {
   "display_name": "Python 3 (ipykernel)",
   "language": "python",
   "name": "python3"
  },
  "language_info": {
   "codemirror_mode": {
    "name": "ipython",
    "version": 3
   },
   "file_extension": ".py",
   "mimetype": "text/x-python",
   "name": "python",
   "nbconvert_exporter": "python",
   "pygments_lexer": "ipython3",
   "version": "3.9.13"
  }
 },
 "nbformat": 4,
 "nbformat_minor": 5
}
