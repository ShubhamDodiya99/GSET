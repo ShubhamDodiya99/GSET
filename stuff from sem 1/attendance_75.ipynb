{
 "cells": [
  {
   "cell_type": "code",
   "execution_count": 3,
   "id": "9499b42c",
   "metadata": {},
   "outputs": [
    {
     "name": "stdout",
     "output_type": "stream",
     "text": [
      "student's name: Sahara\n",
      "Number of classes helded by school is 60\n",
      "Number of classes attended by Sahara is 30\n",
      "Minimum attendance criteria for exam is 75%\n",
      "Sahara's attendance is 50.0 %\n",
      "Sorry Sahara, You are not applicable for exam\n"
     ]
    }
   ],
   "source": [
    "student = input(\"student's name: \")\n",
    "\n",
    "helded = 60\n",
    "print(\"Number of classes helded by school is\",helded)\n",
    "\n",
    "attended = int(input(\"Number of classes attended by {} is \".format(student)))\n",
    "\n",
    "print(\"Minimum attendance criteria for exam is 75%\")\n",
    "\n",
    "attendance = (attended/helded) * 100\n",
    "print(\"{}'s attendance is\".format(student),attendance,\"%\")\n",
    "\n",
    "if attendance >= 75:\n",
    "    print(\"congratulatin! {}, You are applicable for exam\".format(student))\n",
    "else:\n",
    "    print(\"Sorry {}, You are not applicable for exam\".format(student))"
   ]
  },
  {
   "cell_type": "code",
   "execution_count": null,
   "id": "a1ad31a1",
   "metadata": {},
   "outputs": [],
   "source": []
  }
 ],
 "metadata": {
  "kernelspec": {
   "display_name": "Python 3 (ipykernel)",
   "language": "python",
   "name": "python3"
  },
  "language_info": {
   "codemirror_mode": {
    "name": "ipython",
    "version": 3
   },
   "file_extension": ".py",
   "mimetype": "text/x-python",
   "name": "python",
   "nbconvert_exporter": "python",
   "pygments_lexer": "ipython3",
   "version": "3.9.13"
  }
 },
 "nbformat": 4,
 "nbformat_minor": 5
}
