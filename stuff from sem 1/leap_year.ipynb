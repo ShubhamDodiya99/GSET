{
 "cells": [
  {
   "cell_type": "code",
   "execution_count": 13,
   "id": "89f2977b",
   "metadata": {},
   "outputs": [
    {
     "name": "stdout",
     "output_type": "stream",
     "text": [
      "Not a Leap Year\n"
     ]
    }
   ],
   "source": [
    "def checkYear(year):\n",
    "    import calendar\n",
    "    return(calendar.isleap(year))\n",
    "\n",
    "year = 2022\n",
    "if (checkYear(year)):\n",
    "    print(\"Leap Year\")\n",
    "else:\n",
    "    print(\"Not a Leap Year\")"
   ]
  },
  {
   "cell_type": "code",
   "execution_count": 12,
   "id": "fe02e342",
   "metadata": {},
   "outputs": [
    {
     "name": "stdout",
     "output_type": "stream",
     "text": [
      "Not a Leap Year\n"
     ]
    }
   ],
   "source": [
    "def checkYear(year):\n",
    "    if (year % 4) == 0:\n",
    "        if (year % 100) == 0:\n",
    "            if (year % 400) == 0:\n",
    "                return True\n",
    "            else:\n",
    "                return False\n",
    "        else:\n",
    "            return True\n",
    "    else:\n",
    "        return False\n",
    "\n",
    "year = 2049\n",
    "if(checkYear(year)):\n",
    "    print(\"Leap Year\")\n",
    "else:\n",
    "    print(\"Not a Leap Year\")"
   ]
  },
  {
   "cell_type": "code",
   "execution_count": 19,
   "id": "b94f68a6",
   "metadata": {},
   "outputs": [
    {
     "name": "stdout",
     "output_type": "stream",
     "text": [
      "Not a Leap Year\n"
     ]
    }
   ],
   "source": [
    "def checkYear(year):\n",
    "    return (((year % 4 == 0) and (year % 100 != 0)) or (year % 400 == 0));\n",
    "\n",
    "year = 2030\n",
    "if(checkYear(year)):\n",
    "    print(\"Leap Year\")\n",
    "else:\n",
    "    print(\"Not a Leap Year\")"
   ]
  },
  {
   "cell_type": "code",
   "execution_count": 10,
   "id": "e6da5824",
   "metadata": {},
   "outputs": [
    {
     "name": "stdout",
     "output_type": "stream",
     "text": [
      "Enter year: 2022\n",
      "NOT LEAP YEAR\n"
     ]
    }
   ],
   "source": [
    "year = int(input('Enter year: '))\n",
    "\n",
    "if (year%400==0) or (year%4==0 and year%100!=0):\n",
    "    print('LEAP YEAR')\n",
    "else:\n",
    "    print('NOT LEAP YEAR')"
   ]
  },
  {
   "cell_type": "code",
   "execution_count": 16,
   "id": "25b98b17",
   "metadata": {},
   "outputs": [
    {
     "name": "stdout",
     "output_type": "stream",
     "text": [
      "Enter year: 2024\n",
      "LEAP YEAR\n"
     ]
    }
   ],
   "source": [
    "# importing calendar library\n",
    "import calendar\n",
    "\n",
    "year = int(input('Enter year: '))\n",
    "\n",
    "# Calling isleap() method on calendar library\n",
    "isLeap = calendar.isleap(year)\n",
    "\n",
    "if isLeap:\n",
    "    print('LEAP YEAR')\n",
    "else:\n",
    "    print('NOT LEAP YEAR')"
   ]
  },
  {
   "cell_type": "code",
   "execution_count": null,
   "id": "b5f9ba69",
   "metadata": {},
   "outputs": [],
   "source": []
  }
 ],
 "metadata": {
  "kernelspec": {
   "display_name": "Python 3 (ipykernel)",
   "language": "python",
   "name": "python3"
  },
  "language_info": {
   "codemirror_mode": {
    "name": "ipython",
    "version": 3
   },
   "file_extension": ".py",
   "mimetype": "text/x-python",
   "name": "python",
   "nbconvert_exporter": "python",
   "pygments_lexer": "ipython3",
   "version": "3.9.13"
  }
 },
 "nbformat": 4,
 "nbformat_minor": 5
}
