{
 "cells": [
  {
   "cell_type": "code",
   "execution_count": 1,
   "id": "cab12111",
   "metadata": {
    "scrolled": true
   },
   "outputs": [
    {
     "name": "stdout",
     "output_type": "stream",
     "text": [
      "b'\\x00\\x00\\x00\\x00\\x00'\n",
      "<class 'bytes'>\n"
     ]
    }
   ],
   "source": [
    "empty_bytes = bytes(5)\n",
    "print(empty_bytes)\n",
    "print(type(empty_bytes))"
   ]
  },
  {
   "cell_type": "code",
   "execution_count": 5,
   "id": "b0950fea",
   "metadata": {},
   "outputs": [
    {
     "name": "stdout",
     "output_type": "stream",
     "text": [
      "b''\n",
      "<class 'bytes'>\n"
     ]
    }
   ],
   "source": [
    "empty_bytes = bytes()\n",
    "print(empty_bytes)\n",
    "print(type(empty_bytes))"
   ]
  },
  {
   "cell_type": "code",
   "execution_count": 2,
   "id": "1f02b578",
   "metadata": {},
   "outputs": [
    {
     "name": "stdout",
     "output_type": "stream",
     "text": [
      "b'\\xff\\xff'\n",
      "<class 'bytes'>\n"
     ]
    }
   ],
   "source": [
    "data_types = bytes(b'\\xFF\\xFF')\n",
    "print(data_types)\n",
    "print(type(data_types))"
   ]
  },
  {
   "cell_type": "code",
   "execution_count": 4,
   "id": "db68bd4c",
   "metadata": {},
   "outputs": [
    {
     "name": "stdout",
     "output_type": "stream",
     "text": [
      "bytearray(b'')\n",
      "<class 'bytearray'>\n"
     ]
    }
   ],
   "source": [
    "mutable_bytes = bytearray()\n",
    "print(mutable_bytes)\n",
    "print(type(mutable_bytes))"
   ]
  },
  {
   "cell_type": "code",
   "execution_count": 6,
   "id": "fb6d83c4",
   "metadata": {},
   "outputs": [
    {
     "name": "stdout",
     "output_type": "stream",
     "text": [
      "bytearray(b'\\x00\\x00\\x00')\n",
      "<class 'bytearray'>\n"
     ]
    }
   ],
   "source": [
    "mutable_bytes = bytearray(3)\n",
    "print(mutable_bytes)\n",
    "print(type(mutable_bytes))"
   ]
  },
  {
   "cell_type": "code",
   "execution_count": 7,
   "id": "28d3cfcb",
   "metadata": {},
   "outputs": [
    {
     "name": "stdout",
     "output_type": "stream",
     "text": [
      "bytearray(b'xDE\\xad\\xbe\\xef')\n",
      "<class 'bytearray'>\n"
     ]
    }
   ],
   "source": [
    "mutable_bytes = bytearray(b'xDE\\xAD\\xBE\\xEF')\n",
    "print(mutable_bytes)\n",
    "print(type(mutable_bytes))"
   ]
  },
  {
   "cell_type": "code",
   "execution_count": 11,
   "id": "5f7a07d9",
   "metadata": {},
   "outputs": [
    {
     "name": "stdout",
     "output_type": "stream",
     "text": [
      "bytearray(b'\\x00DE\\xad\\xbe\\xef\\xff')\n",
      "bytearray(b'\\x00DE\\xad')\n"
     ]
    }
   ],
   "source": [
    "mutable_bytes = bytearray(b'xDE\\xAD\\xBE\\xEF')\n",
    "mutable_bytes[0] = 0\n",
    "mutable_bytes.append(255)\n",
    "print(mutable_bytes)\n",
    "print(mutable_bytes[0:4])"
   ]
  },
  {
   "cell_type": "code",
   "execution_count": null,
   "id": "c7dcf709",
   "metadata": {},
   "outputs": [],
   "source": []
  }
 ],
 "metadata": {
  "kernelspec": {
   "display_name": "Python 3 (ipykernel)",
   "language": "python",
   "name": "python3"
  },
  "language_info": {
   "codemirror_mode": {
    "name": "ipython",
    "version": 3
   },
   "file_extension": ".py",
   "mimetype": "text/x-python",
   "name": "python",
   "nbconvert_exporter": "python",
   "pygments_lexer": "ipython3",
   "version": "3.9.13"
  }
 },
 "nbformat": 4,
 "nbformat_minor": 5
}
